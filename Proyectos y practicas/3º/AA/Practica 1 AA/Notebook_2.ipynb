{
 "cells": [
  {
   "cell_type": "markdown",
   "id": "daba930dc12bc98c",
   "metadata": {},
   "source": [
    "# Producción de la energía eólica con datos de competición\n",
    "\n",
    "Se usará el dataset con datos de la competición otorgado para, usando el modelo seleccionado, predecir la producción de energía."
   ]
  },
  {
   "cell_type": "code",
   "execution_count": 3,
   "id": "6b52809e93680c25",
   "metadata": {
    "ExecuteTime": {
     "end_time": "2024-04-06T10:20:23.668533Z",
     "start_time": "2024-04-06T10:20:23.382795Z"
    }
   },
   "outputs": [],
   "source": [
    "# Se importará el modelo final \"model.pkl\" y se realizarán las predicciones sobre \n",
    "# el dataset de competición (\"data/wind_comp.csv\")\n",
    "import pandas as pd\n",
    "import numpy as np\n",
    "import pickle\n",
    "\n",
    "# Se carga el modelo\n",
    "with open('modelo_final.pkl', 'rb') as file:\n",
    "    model = pickle.load(file)\n",
    "\n",
    "# Se cargan los datos de competición\n",
    "data = pd.read_csv('data/wind_comp.csv')\n",
    "\n",
    "# Se realiza la predicción\n",
    "y_pred = model.predict(data)\n",
    "\n",
    "# Se guardan y exportan las predicciones en un archivo CSV\n",
    "pd.DataFrame(y_pred).to_csv('predicciones.csv', index=False, header=False)"
   ]
  }
 ],
 "metadata": {
  "kernelspec": {
   "display_name": "Python 3",
   "language": "python",
   "name": "python3"
  },
  "language_info": {
   "codemirror_mode": {
    "name": "ipython",
    "version": 3
   },
   "file_extension": ".py",
   "mimetype": "text/x-python",
   "name": "python",
   "nbconvert_exporter": "python",
   "pygments_lexer": "ipython3",
   "version": "3.12.2"
  }
 },
 "nbformat": 4,
 "nbformat_minor": 5
}
